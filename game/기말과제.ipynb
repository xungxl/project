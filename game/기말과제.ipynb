{
  "nbformat": 4,
  "nbformat_minor": 0,
  "metadata": {
    "colab": {
      "private_outputs": true,
      "provenance": []
    },
    "kernelspec": {
      "name": "python3",
      "display_name": "Python 3"
    },
    "language_info": {
      "name": "python"
    }
  },
  "cells": [
    {
      "cell_type": "code",
      "execution_count": null,
      "metadata": {
        "id": "HZumMlizu9k7"
      },
      "outputs": [],
      "source": [
        "import random as rd\n",
        "\n",
        "class Monstergame:\n",
        "  def __init__(self):\n",
        "    self.player_health = 50\n",
        "    self.monster_health = 50\n",
        "    self.attempts = 5\n",
        "\n",
        "  def random_number(self):\n",
        "      return rd.randint(1,3)\n",
        "\n",
        "  def user_input(self):\n",
        "    while True:\n",
        "      try:\n",
        "        user_number = int(input('1부터 3 사이의 숫자를 입력하시오.:'))\n",
        "\n",
        "        if user_number >=1 and user_number <=3 :\n",
        "          return user_number\n",
        "        else :\n",
        "          print('\\n알맞은 숫자를 입력하시오.\\n')\n",
        "\n",
        "      except ValueError:\n",
        "        print('\\n알맞은 숫자를 입력하시오.\\n')\n",
        "\n",
        "  def round(self, user_number):\n",
        "    if user_number == self.random_number():\n",
        "      print('\\n정확합니다! monster의 체력을 10 깎습니다.\\n')\n",
        "      self.monster_health -= 10\n",
        "      self.attempts += 2\n",
        "      self.player_health += 10\n",
        "\n",
        "    else:\n",
        "      print('\\n틀렸습니다. player의 체력을 10 깎습니다.\\n')\n",
        "      self.player_health -= 10\n",
        "    self.attempts -= 1\n",
        "    print('monster : {}, 내 체력: {}, 남은 시도 횟수: {}\\n'.format(self.monster_health, self.player_health, self.attempts))\n",
        "\n",
        "\n",
        "  def game(self):\n",
        "    while self.attempts >= 0:\n",
        "      if self.monster_health == 0:\n",
        "        print('\\n몬스터를 물리쳤습니다! 축하드립니다!')\n",
        "        break\n",
        "\n",
        "      if self.player_health == 0:\n",
        "        print('\\n플레이어의 체력이 0이 되어 게임을 종료합니다.')\n",
        "        break\n",
        "\n",
        "      if self.attempts == 0 :\n",
        "        print('\\n시도 횟수가 소진되어 게임을 종료합니다.')\n",
        "      user_number = self.user_input()\n",
        "      self.round(user_number)\n",
        "\n",
        "if __name__ == \"__main__\":\n",
        "  x = Monstergame()\n",
        "  x.game()"
      ]
    },
    {
      "cell_type": "code",
      "source": [
        "if __name__ == \"__main__\":\n",
        "  x = Monstergame()\n",
        "  x.game()"
      ],
      "metadata": {
        "id": "9GPIgXQwvB0K"
      },
      "execution_count": null,
      "outputs": []
    }
  ]
}